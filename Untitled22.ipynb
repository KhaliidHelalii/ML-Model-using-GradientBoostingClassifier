{
  "cells": [
    {
      "cell_type": "markdown",
      "metadata": {
        "id": "view-in-github",
        "colab_type": "text"
      },
      "source": [
        "<a href=\"https://colab.research.google.com/github/KhaliidHelalii/ML-Model-using-GradientBoostingClassifier/blob/main/Untitled22.ipynb\" target=\"_parent\"><img src=\"https://colab.research.google.com/assets/colab-badge.svg\" alt=\"Open In Colab\"/></a>"
      ]
    },
    {
      "cell_type": "code",
      "execution_count": null,
      "metadata": {
        "colab": {
          "base_uri": "https://localhost:8080/",
          "height": 270
        },
        "id": "CFdj1flH4aKp",
        "outputId": "9aeac1bd-7c4c-456e-8473-9679b7c87d18"
      },
      "outputs": [
        {
          "output_type": "execute_result",
          "data": {
            "text/plain": [
              "   Safety_Score  Days_Since_Inspection  Total_Safety_Complaints  \\\n",
              "0     80.593607                      8                       11   \n",
              "1     41.917808                     12                        1   \n",
              "2     43.333333                     15                        4   \n",
              "3     26.073059                     21                        0   \n",
              "4     32.876712                     11                        9   \n",
              "\n",
              "   Control_Metric  Turbulence_In_gforces  Cabin_Temperature  \\\n",
              "0       62.534184               0.409514              82.45   \n",
              "1       56.198724               0.413481              79.64   \n",
              "2       49.817685               0.408432              82.66   \n",
              "3       65.496809               0.363354              82.92   \n",
              "4       62.670921               0.443773              85.40   \n",
              "\n",
              "   Accident_Type_Code  Max_Elevation  Violations  Adverse_Weather_Metric  \\\n",
              "0                   2   29304.824298           2                0.395623   \n",
              "1                   7   42176.922286           2                0.003973   \n",
              "2                   2   36091.552772           3                0.490557   \n",
              "3                   4   26977.613452           1                0.049470   \n",
              "4                   3   46847.458386           0                0.231088   \n",
              "\n",
              "   Accident_ID  \n",
              "0          960  \n",
              "1         9315  \n",
              "2         7411  \n",
              "3        12309  \n",
              "4         7969  "
            ],
            "text/html": [
              "\n",
              "  <div id=\"df-12c2f6b6-c301-430e-bc04-162b6fce55a7\">\n",
              "    <div class=\"colab-df-container\">\n",
              "      <div>\n",
              "<style scoped>\n",
              "    .dataframe tbody tr th:only-of-type {\n",
              "        vertical-align: middle;\n",
              "    }\n",
              "\n",
              "    .dataframe tbody tr th {\n",
              "        vertical-align: top;\n",
              "    }\n",
              "\n",
              "    .dataframe thead th {\n",
              "        text-align: right;\n",
              "    }\n",
              "</style>\n",
              "<table border=\"1\" class=\"dataframe\">\n",
              "  <thead>\n",
              "    <tr style=\"text-align: right;\">\n",
              "      <th></th>\n",
              "      <th>Safety_Score</th>\n",
              "      <th>Days_Since_Inspection</th>\n",
              "      <th>Total_Safety_Complaints</th>\n",
              "      <th>Control_Metric</th>\n",
              "      <th>Turbulence_In_gforces</th>\n",
              "      <th>Cabin_Temperature</th>\n",
              "      <th>Accident_Type_Code</th>\n",
              "      <th>Max_Elevation</th>\n",
              "      <th>Violations</th>\n",
              "      <th>Adverse_Weather_Metric</th>\n",
              "      <th>Accident_ID</th>\n",
              "    </tr>\n",
              "  </thead>\n",
              "  <tbody>\n",
              "    <tr>\n",
              "      <th>0</th>\n",
              "      <td>80.593607</td>\n",
              "      <td>8</td>\n",
              "      <td>11</td>\n",
              "      <td>62.534184</td>\n",
              "      <td>0.409514</td>\n",
              "      <td>82.45</td>\n",
              "      <td>2</td>\n",
              "      <td>29304.824298</td>\n",
              "      <td>2</td>\n",
              "      <td>0.395623</td>\n",
              "      <td>960</td>\n",
              "    </tr>\n",
              "    <tr>\n",
              "      <th>1</th>\n",
              "      <td>41.917808</td>\n",
              "      <td>12</td>\n",
              "      <td>1</td>\n",
              "      <td>56.198724</td>\n",
              "      <td>0.413481</td>\n",
              "      <td>79.64</td>\n",
              "      <td>7</td>\n",
              "      <td>42176.922286</td>\n",
              "      <td>2</td>\n",
              "      <td>0.003973</td>\n",
              "      <td>9315</td>\n",
              "    </tr>\n",
              "    <tr>\n",
              "      <th>2</th>\n",
              "      <td>43.333333</td>\n",
              "      <td>15</td>\n",
              "      <td>4</td>\n",
              "      <td>49.817685</td>\n",
              "      <td>0.408432</td>\n",
              "      <td>82.66</td>\n",
              "      <td>2</td>\n",
              "      <td>36091.552772</td>\n",
              "      <td>3</td>\n",
              "      <td>0.490557</td>\n",
              "      <td>7411</td>\n",
              "    </tr>\n",
              "    <tr>\n",
              "      <th>3</th>\n",
              "      <td>26.073059</td>\n",
              "      <td>21</td>\n",
              "      <td>0</td>\n",
              "      <td>65.496809</td>\n",
              "      <td>0.363354</td>\n",
              "      <td>82.92</td>\n",
              "      <td>4</td>\n",
              "      <td>26977.613452</td>\n",
              "      <td>1</td>\n",
              "      <td>0.049470</td>\n",
              "      <td>12309</td>\n",
              "    </tr>\n",
              "    <tr>\n",
              "      <th>4</th>\n",
              "      <td>32.876712</td>\n",
              "      <td>11</td>\n",
              "      <td>9</td>\n",
              "      <td>62.670921</td>\n",
              "      <td>0.443773</td>\n",
              "      <td>85.40</td>\n",
              "      <td>3</td>\n",
              "      <td>46847.458386</td>\n",
              "      <td>0</td>\n",
              "      <td>0.231088</td>\n",
              "      <td>7969</td>\n",
              "    </tr>\n",
              "  </tbody>\n",
              "</table>\n",
              "</div>\n",
              "      <button class=\"colab-df-convert\" onclick=\"convertToInteractive('df-12c2f6b6-c301-430e-bc04-162b6fce55a7')\"\n",
              "              title=\"Convert this dataframe to an interactive table.\"\n",
              "              style=\"display:none;\">\n",
              "        \n",
              "  <svg xmlns=\"http://www.w3.org/2000/svg\" height=\"24px\"viewBox=\"0 0 24 24\"\n",
              "       width=\"24px\">\n",
              "    <path d=\"M0 0h24v24H0V0z\" fill=\"none\"/>\n",
              "    <path d=\"M18.56 5.44l.94 2.06.94-2.06 2.06-.94-2.06-.94-.94-2.06-.94 2.06-2.06.94zm-11 1L8.5 8.5l.94-2.06 2.06-.94-2.06-.94L8.5 2.5l-.94 2.06-2.06.94zm10 10l.94 2.06.94-2.06 2.06-.94-2.06-.94-.94-2.06-.94 2.06-2.06.94z\"/><path d=\"M17.41 7.96l-1.37-1.37c-.4-.4-.92-.59-1.43-.59-.52 0-1.04.2-1.43.59L10.3 9.45l-7.72 7.72c-.78.78-.78 2.05 0 2.83L4 21.41c.39.39.9.59 1.41.59.51 0 1.02-.2 1.41-.59l7.78-7.78 2.81-2.81c.8-.78.8-2.07 0-2.86zM5.41 20L4 18.59l7.72-7.72 1.47 1.35L5.41 20z\"/>\n",
              "  </svg>\n",
              "      </button>\n",
              "      \n",
              "  <style>\n",
              "    .colab-df-container {\n",
              "      display:flex;\n",
              "      flex-wrap:wrap;\n",
              "      gap: 12px;\n",
              "    }\n",
              "\n",
              "    .colab-df-convert {\n",
              "      background-color: #E8F0FE;\n",
              "      border: none;\n",
              "      border-radius: 50%;\n",
              "      cursor: pointer;\n",
              "      display: none;\n",
              "      fill: #1967D2;\n",
              "      height: 32px;\n",
              "      padding: 0 0 0 0;\n",
              "      width: 32px;\n",
              "    }\n",
              "\n",
              "    .colab-df-convert:hover {\n",
              "      background-color: #E2EBFA;\n",
              "      box-shadow: 0px 1px 2px rgba(60, 64, 67, 0.3), 0px 1px 3px 1px rgba(60, 64, 67, 0.15);\n",
              "      fill: #174EA6;\n",
              "    }\n",
              "\n",
              "    [theme=dark] .colab-df-convert {\n",
              "      background-color: #3B4455;\n",
              "      fill: #D2E3FC;\n",
              "    }\n",
              "\n",
              "    [theme=dark] .colab-df-convert:hover {\n",
              "      background-color: #434B5C;\n",
              "      box-shadow: 0px 1px 3px 1px rgba(0, 0, 0, 0.15);\n",
              "      filter: drop-shadow(0px 1px 2px rgba(0, 0, 0, 0.3));\n",
              "      fill: #FFFFFF;\n",
              "    }\n",
              "  </style>\n",
              "\n",
              "      <script>\n",
              "        const buttonEl =\n",
              "          document.querySelector('#df-12c2f6b6-c301-430e-bc04-162b6fce55a7 button.colab-df-convert');\n",
              "        buttonEl.style.display =\n",
              "          google.colab.kernel.accessAllowed ? 'block' : 'none';\n",
              "\n",
              "        async function convertToInteractive(key) {\n",
              "          const element = document.querySelector('#df-12c2f6b6-c301-430e-bc04-162b6fce55a7');\n",
              "          const dataTable =\n",
              "            await google.colab.kernel.invokeFunction('convertToInteractive',\n",
              "                                                     [key], {});\n",
              "          if (!dataTable) return;\n",
              "\n",
              "          const docLinkHtml = 'Like what you see? Visit the ' +\n",
              "            '<a target=\"_blank\" href=https://colab.research.google.com/notebooks/data_table.ipynb>data table notebook</a>'\n",
              "            + ' to learn more about interactive tables.';\n",
              "          element.innerHTML = '';\n",
              "          dataTable['output_type'] = 'display_data';\n",
              "          await google.colab.output.renderOutput(dataTable, element);\n",
              "          const docLink = document.createElement('div');\n",
              "          docLink.innerHTML = docLinkHtml;\n",
              "          element.appendChild(docLink);\n",
              "        }\n",
              "      </script>\n",
              "    </div>\n",
              "  </div>\n",
              "  "
            ]
          },
          "metadata": {},
          "execution_count": 1
        }
      ],
      "source": [
        "import numpy as np\n",
        "import matplotlib.pyplot as plt\n",
        "import pandas as pd\n",
        "\n",
        "\n",
        "train_data = pd.read_csv('Dataset.csv')\n",
        "\n",
        "train_data.drop('Unnamed: 0', axis=1, inplace=True)\n",
        "\n",
        "test_data = pd.read_csv('x_test.csv')\n",
        "\n",
        "test_data.drop('Unnamed: 0', axis=1, inplace=True)\n",
        "\n",
        "test_data.head()"
      ]
    },
    {
      "cell_type": "code",
      "execution_count": null,
      "metadata": {
        "id": "7qxr_Pgt4pHB",
        "colab": {
          "base_uri": "https://localhost:8080/"
        },
        "outputId": "a181f3f5-59af-49c7-9879-73293b68637e"
      },
      "outputs": [
        {
          "output_type": "execute_result",
          "data": {
            "text/plain": [
              "0       Significant_Damage_And_Serious_Injuries\n",
              "1                     Minor_Damage_And_Injuries\n",
              "2             Significant_Damage_And_Fatalities\n",
              "3       Significant_Damage_And_Serious_Injuries\n",
              "4                     Highly_Fatal_And_Damaging\n",
              "                         ...                   \n",
              "8495                  Minor_Damage_And_Injuries\n",
              "8496                  Highly_Fatal_And_Damaging\n",
              "8497    Significant_Damage_And_Serious_Injuries\n",
              "8498                  Highly_Fatal_And_Damaging\n",
              "8499                  Highly_Fatal_And_Damaging\n",
              "Name: Severity, Length: 8500, dtype: object"
            ]
          },
          "metadata": {},
          "execution_count": 2
        }
      ],
      "source": [
        "x=train_data.drop(columns='Severity')\n",
        "y=train_data['Severity']\n",
        "y"
      ]
    },
    {
      "cell_type": "code",
      "execution_count": null,
      "metadata": {
        "id": "jHCsFJYC4wc3"
      },
      "outputs": [],
      "source": [
        "from sklearn.preprocessing import LabelEncoder\n",
        "en = LabelEncoder()\n",
        "train_data['Severity']= en.fit_transform(train_data['Severity'])"
      ]
    },
    {
      "cell_type": "code",
      "execution_count": null,
      "metadata": {
        "id": "Rj9F04yJ5AnB"
      },
      "outputs": [],
      "source": [
        "from sklearn.model_selection import train_test_split\n",
        "\n",
        "x_train, x_test, y_train, y_test = train_test_split(x,y, test_size = 0.25, random_state = 0)\n",
        "\n",
        "# print(x_train.shape)\n",
        "# print(x_test.shape)"
      ]
    },
    {
      "cell_type": "code",
      "execution_count": null,
      "metadata": {
        "id": "3ZCVJNpM5Dh9"
      },
      "outputs": [],
      "source": [
        "from sklearn.preprocessing import StandardScaler\n",
        "sc=StandardScaler()\n",
        "x_train=sc.fit_transform(x_train)\n",
        "x_test=sc.transform(x_test)"
      ]
    },
    {
      "cell_type": "code",
      "execution_count": null,
      "metadata": {
        "colab": {
          "base_uri": "https://localhost:8080/"
        },
        "id": "mhjSMFVW5NFb",
        "outputId": "d031b8fe-edd8-4d9c-bd61-0fcb0fc9da8d"
      },
      "outputs": [
        {
          "output_type": "stream",
          "name": "stdout",
          "text": [
            "                                         precision    recall  f1-score   support\n",
            "\n",
            "              Highly_Fatal_And_Damaging       0.98      0.97      0.97       651\n",
            "              Minor_Damage_And_Injuries       0.97      0.97      0.97       519\n",
            "      Significant_Damage_And_Fatalities       0.95      0.96      0.95       344\n",
            "Significant_Damage_And_Serious_Injuries       0.98      0.98      0.98       611\n",
            "\n",
            "                               accuracy                           0.97      2125\n",
            "                              macro avg       0.97      0.97      0.97      2125\n",
            "                           weighted avg       0.97      0.97      0.97      2125\n",
            "\n"
          ]
        }
      ],
      "source": [
        "# GradientBoostingClassifier\n",
        "from sklearn.ensemble import GradientBoostingClassifier\n",
        "from sklearn.metrics import classification_report, confusion_matrix\n",
        "\n",
        "classifier = GradientBoostingClassifier(n_estimators=500,max_depth=9,learning_rate=0.1,random_state=101\n",
        ")\n",
        "\n",
        "\n",
        "classifier.fit(x_train, y_train)\n",
        "\n",
        "y_pred = classifier.predict(x_test)\n",
        "\n",
        "print(classification_report(y_test, y_pred))\n"
      ]
    },
    {
      "cell_type": "code",
      "source": [
        "test_data=sc.transform(test_data)"
      ],
      "metadata": {
        "id": "hLRl3zGpqZj1"
      },
      "execution_count": null,
      "outputs": []
    },
    {
      "cell_type": "code",
      "execution_count": null,
      "metadata": {
        "colab": {
          "base_uri": "https://localhost:8080/"
        },
        "id": "l6IswZFS5mrc",
        "outputId": "ad76d081-c4ad-4814-b760-94e2bea2ada8"
      },
      "outputs": [
        {
          "output_type": "execute_result",
          "data": {
            "text/plain": [
              "Severity                               \n",
              "Highly_Fatal_And_Damaging                  469\n",
              "Significant_Damage_And_Serious_Injuries    389\n",
              "Minor_Damage_And_Injuries                  386\n",
              "Significant_Damage_And_Fatalities          256\n",
              "dtype: int64"
            ]
          },
          "metadata": {},
          "execution_count": 8
        }
      ],
      "source": [
        "import numpy as np\n",
        "import matplotlib.pyplot as plt\n",
        "import pandas as pd\n",
        "\n",
        "\n",
        "y_pred=classifier.predict(test_data) \n",
        "\n",
        "\n",
        "df = pd.DataFrame({'Severity':y_pred})\n",
        "df.to_csv('GradientBoostingClassifier.csv')\n",
        "df.value_counts()"
      ]
    }
  ],
  "metadata": {
    "accelerator": "GPU",
    "colab": {
      "provenance": [],
      "include_colab_link": true
    },
    "gpuClass": "standard",
    "kernelspec": {
      "display_name": "Python 3",
      "name": "python3"
    },
    "language_info": {
      "name": "python"
    }
  },
  "nbformat": 4,
  "nbformat_minor": 0
}